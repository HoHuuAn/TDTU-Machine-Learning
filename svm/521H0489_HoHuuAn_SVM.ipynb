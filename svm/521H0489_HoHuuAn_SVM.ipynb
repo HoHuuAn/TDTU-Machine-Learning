{
 "cells": [
  {
   "cell_type": "code",
   "execution_count": 1,
   "metadata": {},
   "outputs": [],
   "source": [
    "from sklearn import datasets\n",
    "from sklearn.model_selection import train_test_split\n",
    "from sklearn import svm\n",
    "from sklearn.metrics import accuracy_score, mean_squared_error"
   ]
  },
  {
   "cell_type": "markdown",
   "metadata": {},
   "source": [
    "# SVM for Classification"
   ]
  },
  {
   "cell_type": "markdown",
   "metadata": {},
   "source": [
    "## Data preprocessing"
   ]
  },
  {
   "cell_type": "code",
   "execution_count": 2,
   "metadata": {},
   "outputs": [],
   "source": [
    "cancer_data = datasets.load_breast_cancer()\n",
    "X_cancer = cancer_data.data\n",
    "y_cancer = cancer_data.target"
   ]
  },
  {
   "cell_type": "code",
   "execution_count": 3,
   "metadata": {},
   "outputs": [],
   "source": [
    "X_cancer_train, X_cancer_test, y_cancer_train, y_cancer_test = train_test_split(X_cancer, y_cancer, test_size=0.2, random_state=42)"
   ]
  },
  {
   "cell_type": "markdown",
   "metadata": {},
   "source": [
    "## SVM with Linear"
   ]
  },
  {
   "cell_type": "markdown",
   "metadata": {},
   "source": [
    "### SVM with Linear with C = 0.1"
   ]
  },
  {
   "cell_type": "code",
   "execution_count": 4,
   "metadata": {},
   "outputs": [
    {
     "name": "stdout",
     "output_type": "stream",
     "text": [
      "Classification Accuracy Of Linear with C = 0.1: 0.9649122807017544\n"
     ]
    }
   ],
   "source": [
    "svm_linear = svm.SVC(kernel='linear', C=0.1)\n",
    "svm_linear.fit(X_cancer_train, y_cancer_train)\n",
    "y_cancer_pred = svm_linear.predict(X_cancer_test)\n",
    "classification_accuracy = accuracy_score(y_cancer_test, y_cancer_pred)\n",
    "print(\"Classification Accuracy Of Linear with C = 0.1:\", classification_accuracy)"
   ]
  },
  {
   "cell_type": "markdown",
   "metadata": {},
   "source": [
    "### SVM with Linear with C = 1.0"
   ]
  },
  {
   "cell_type": "code",
   "execution_count": 5,
   "metadata": {},
   "outputs": [
    {
     "name": "stdout",
     "output_type": "stream",
     "text": [
      "Classification Accuracy Of Linear with C = 1.0: 0.956140350877193\n"
     ]
    }
   ],
   "source": [
    "svm_linear = svm.SVC(kernel='linear', C=1.0)\n",
    "svm_linear.fit(X_cancer_train, y_cancer_train)\n",
    "y_cancer_pred = svm_linear.predict(X_cancer_test)\n",
    "classification_accuracy = accuracy_score(y_cancer_test, y_cancer_pred)\n",
    "print(\"Classification Accuracy Of Linear with C = 1.0:\", classification_accuracy)"
   ]
  },
  {
   "cell_type": "markdown",
   "metadata": {},
   "source": [
    "### SVM with Linear with C = 10"
   ]
  },
  {
   "cell_type": "code",
   "execution_count": 6,
   "metadata": {},
   "outputs": [
    {
     "name": "stdout",
     "output_type": "stream",
     "text": [
      "Classification Accuracy Of Linear with C = 10: 0.956140350877193\n"
     ]
    }
   ],
   "source": [
    "svm_linear = svm.SVC(kernel='linear', C=10)\n",
    "svm_linear.fit(X_cancer_train, y_cancer_train)\n",
    "y_cancer_pred = svm_linear.predict(X_cancer_test)\n",
    "classification_accuracy = accuracy_score(y_cancer_test, y_cancer_pred)\n",
    "print(\"Classification Accuracy Of Linear with C = 10:\", classification_accuracy)"
   ]
  },
  {
   "cell_type": "markdown",
   "metadata": {},
   "source": [
    "## SVM with Poly"
   ]
  },
  {
   "cell_type": "markdown",
   "metadata": {},
   "source": [
    "### SVM with Poly with c = 1.0"
   ]
  },
  {
   "cell_type": "code",
   "execution_count": 7,
   "metadata": {},
   "outputs": [
    {
     "name": "stdout",
     "output_type": "stream",
     "text": [
      "Classification Accuracy Of Poly: 0.9473684210526315\n"
     ]
    }
   ],
   "source": [
    "svm_poly = svm.SVC(kernel='poly', degree=3, C=1.0)\n",
    "svm_poly.fit(X_cancer_train, y_cancer_train)\n",
    "y_cancer_pred = svm_poly.predict(X_cancer_test)\n",
    "classification_accuracy = accuracy_score(y_cancer_test, y_cancer_pred)\n",
    "print(\"Classification Accuracy Of Poly:\", classification_accuracy)"
   ]
  },
  {
   "cell_type": "markdown",
   "metadata": {},
   "source": [
    "### SVM with Poly with c = 10"
   ]
  },
  {
   "cell_type": "code",
   "execution_count": 8,
   "metadata": {},
   "outputs": [
    {
     "name": "stdout",
     "output_type": "stream",
     "text": [
      "Classification Accuracy Of Poly: 0.9298245614035088\n"
     ]
    }
   ],
   "source": [
    "svm_poly = svm.SVC(kernel='poly', degree=3, C=10)\n",
    "svm_poly.fit(X_cancer_train, y_cancer_train)\n",
    "y_cancer_pred = svm_poly.predict(X_cancer_test)\n",
    "classification_accuracy = accuracy_score(y_cancer_test, y_cancer_pred)\n",
    "print(\"Classification Accuracy Of Poly:\", classification_accuracy)"
   ]
  },
  {
   "cell_type": "markdown",
   "metadata": {},
   "source": [
    "### SVM with Poly with c = 100"
   ]
  },
  {
   "cell_type": "code",
   "execution_count": 9,
   "metadata": {},
   "outputs": [
    {
     "name": "stdout",
     "output_type": "stream",
     "text": [
      "Classification Accuracy Of Poly: 0.956140350877193\n"
     ]
    }
   ],
   "source": [
    "svm_poly = svm.SVC(kernel='poly', degree=3, C=100)\n",
    "svm_poly.fit(X_cancer_train, y_cancer_train)\n",
    "y_cancer_pred = svm_poly.predict(X_cancer_test)\n",
    "classification_accuracy = accuracy_score(y_cancer_test, y_cancer_pred)\n",
    "print(\"Classification Accuracy Of Poly:\", classification_accuracy)"
   ]
  },
  {
   "cell_type": "markdown",
   "metadata": {},
   "source": [
    "## SVM with rbf"
   ]
  },
  {
   "cell_type": "markdown",
   "metadata": {},
   "source": [
    "### SVM with rbf with c = 50"
   ]
  },
  {
   "cell_type": "code",
   "execution_count": 10,
   "metadata": {},
   "outputs": [
    {
     "name": "stdout",
     "output_type": "stream",
     "text": [
      "Classification Accuracy Of Gaussian: 0.6228070175438597\n"
     ]
    }
   ],
   "source": [
    "svm_gaussian = svm.SVC(kernel='rbf', gamma='auto', C=50)\n",
    "svm_gaussian.fit(X_cancer_train, y_cancer_train)\n",
    "y_cancer_pred = svm_gaussian.predict(X_cancer_test)\n",
    "classification_accuracy = accuracy_score(y_cancer_test, y_cancer_pred)\n",
    "print(\"Classification Accuracy Of Gaussian:\", classification_accuracy)"
   ]
  },
  {
   "cell_type": "markdown",
   "metadata": {},
   "source": [
    "### SVM with rbf with c = 100"
   ]
  },
  {
   "cell_type": "code",
   "execution_count": 11,
   "metadata": {},
   "outputs": [
    {
     "name": "stdout",
     "output_type": "stream",
     "text": [
      "Classification Accuracy Of Gaussian: 0.9824561403508771\n"
     ]
    }
   ],
   "source": [
    "svm_gaussian = svm.SVC(kernel='rbf', gamma='scale', C=100)\n",
    "svm_gaussian.fit(X_cancer_train, y_cancer_train)\n",
    "y_cancer_pred = svm_gaussian.predict(X_cancer_test)\n",
    "classification_accuracy = accuracy_score(y_cancer_test, y_cancer_pred)\n",
    "print(\"Classification Accuracy Of Gaussian:\", classification_accuracy)"
   ]
  },
  {
   "cell_type": "markdown",
   "metadata": {},
   "source": [
    "## SVM with Sigmoid "
   ]
  },
  {
   "cell_type": "markdown",
   "metadata": {},
   "source": [
    "### SVM with rbf with c = 50"
   ]
  },
  {
   "cell_type": "code",
   "execution_count": 12,
   "metadata": {},
   "outputs": [
    {
     "name": "stdout",
     "output_type": "stream",
     "text": [
      "Classification Accuracy Of Gaussian: 0.9210526315789473\n"
     ]
    }
   ],
   "source": [
    "svm_gaussian = svm.SVC(kernel='sigmoid', gamma='scale', C=50)\n",
    "svm_gaussian.fit(X_cancer_train, y_cancer_train)\n",
    "y_cancer_pred = svm_gaussian.predict(X_cancer_test)\n",
    "classification_accuracy = accuracy_score(y_cancer_test, y_cancer_pred)\n",
    "print(\"Classification Accuracy Of Gaussian:\", classification_accuracy)"
   ]
  },
  {
   "cell_type": "markdown",
   "metadata": {},
   "source": [
    "### SVM with sigmoid with c = 100"
   ]
  },
  {
   "cell_type": "code",
   "execution_count": 13,
   "metadata": {},
   "outputs": [
    {
     "name": "stdout",
     "output_type": "stream",
     "text": [
      "Classification Accuracy Of Gaussian: 0.9122807017543859\n"
     ]
    }
   ],
   "source": [
    "svm_gaussian = svm.SVC(kernel='sigmoid', gamma='scale', C=100)\n",
    "svm_gaussian.fit(X_cancer_train, y_cancer_train)\n",
    "y_cancer_pred = svm_gaussian.predict(X_cancer_test)\n",
    "classification_accuracy = accuracy_score(y_cancer_test, y_cancer_pred)\n",
    "print(\"Classification Accuracy Of Gaussian:\", classification_accuracy)"
   ]
  },
  {
   "cell_type": "markdown",
   "metadata": {},
   "source": [
    "# SVM for Regression"
   ]
  },
  {
   "cell_type": "code",
   "execution_count": 14,
   "metadata": {},
   "outputs": [],
   "source": [
    "power_data = datasets.fetch_california_housing()\n",
    "X_power = power_data.data\n",
    "y_power = power_data.target"
   ]
  },
  {
   "cell_type": "code",
   "execution_count": 15,
   "metadata": {},
   "outputs": [],
   "source": [
    "X_power_train, X_power_test, y_power_train, y_power_test = train_test_split(X_power, y_power, test_size=0.2, random_state=42)"
   ]
  },
  {
   "cell_type": "markdown",
   "metadata": {},
   "source": [
    "### SVM with linear"
   ]
  },
  {
   "cell_type": "code",
   "execution_count": 16,
   "metadata": {},
   "outputs": [
    {
     "name": "stdout",
     "output_type": "stream",
     "text": [
      "Regression MSE: 0.6296066152221749\n"
     ]
    }
   ],
   "source": [
    "reg_linear = svm.SVR(kernel='linear', C=1.0)\n",
    "reg_linear.fit(X_power_train, y_power_train)\n",
    "y_power_pred = reg_linear.predict(X_power_test)\n",
    "regression_mse = mean_squared_error(y_power_test, y_power_pred)\n",
    "print(\"Regression MSE:\", regression_mse)"
   ]
  },
  {
   "cell_type": "markdown",
   "metadata": {},
   "source": [
    "### SVM with poly"
   ]
  },
  {
   "cell_type": "code",
   "execution_count": 17,
   "metadata": {},
   "outputs": [
    {
     "name": "stdout",
     "output_type": "stream",
     "text": [
      "Regression MSE: 1.3292096977332442\n"
     ]
    }
   ],
   "source": [
    "reg_poly = svm.SVR(kernel='poly', degree=3, C=10)\n",
    "reg_poly.fit(X_power_train, y_power_train)\n",
    "y_power_pred = reg_poly.predict(X_power_test)\n",
    "regression_mse = mean_squared_error(y_power_test, y_power_pred)\n",
    "print(\"Regression MSE:\", regression_mse)"
   ]
  },
  {
   "cell_type": "markdown",
   "metadata": {},
   "source": [
    "### SVM with rbf"
   ]
  },
  {
   "cell_type": "code",
   "execution_count": 18,
   "metadata": {},
   "outputs": [
    {
     "name": "stdout",
     "output_type": "stream",
     "text": [
      "Regression MSE: 0.6554706119761085\n"
     ]
    }
   ],
   "source": [
    "reg_rbf = svm.SVR(kernel='rbf', gamma='scale', C=100)\n",
    "reg_rbf.fit(X_power_train, y_power_train)\n",
    "y_power_pred = reg_rbf.predict(X_power_test)\n",
    "regression_mse = mean_squared_error(y_power_test, y_power_pred)\n",
    "print(\"Regression MSE:\", regression_mse)"
   ]
  }
 ],
 "metadata": {
  "kernelspec": {
   "display_name": "base",
   "language": "python",
   "name": "python3"
  },
  "language_info": {
   "codemirror_mode": {
    "name": "ipython",
    "version": 3
   },
   "file_extension": ".py",
   "mimetype": "text/x-python",
   "name": "python",
   "nbconvert_exporter": "python",
   "pygments_lexer": "ipython3",
   "version": "3.11.4"
  }
 },
 "nbformat": 4,
 "nbformat_minor": 2
}
