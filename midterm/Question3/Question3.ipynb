{
 "cells": [
  {
   "cell_type": "markdown",
   "metadata": {},
   "source": [
    "# Machine Learning Mid-term Project Question 3 \n",
    "Overfitting and Methods\n",
    "## Team members:\n",
    " - ## <span style=\"color:green\">521H0489: Hồ Hữu An</span>.\n",
    " - ## <span style=\"color:green\">521H0491: Trần Nhựt Anh</span>.\n",
    " - ## <span style=\"color:green\">521H0290: Đỗ Minh Quân</span>."
   ]
  },
  {
   "cell_type": "markdown",
   "metadata": {},
   "source": [
    "All The model will be evaluated by MSE"
   ]
  },
  {
   "cell_type": "markdown",
   "metadata": {},
   "source": [
    "## Dropout Regulization"
   ]
  },
  {
   "cell_type": "code",
   "execution_count": 49,
   "metadata": {},
   "outputs": [],
   "source": [
    "import pandas as pd\n",
    "from sklearn.model_selection import train_test_split\n",
    "from sklearn.preprocessing import StandardScaler\n",
    "from tensorflow.keras.callbacks import EarlyStopping\n",
    "import matplotlib.pyplot as plt\n",
    "\n",
    "\n",
    "from tensorflow.keras.models import Sequential\n",
    "from tensorflow.keras.layers import Dense, Dropout\n",
    "\n",
    "# Load and prepare data\n",
    "filename = \"HousingData.csv\"\n",
    "df = pd.read_csv(filename)"
   ]
  },
  {
   "cell_type": "code",
   "execution_count": 50,
   "metadata": {},
   "outputs": [],
   "source": [
    "df['CRIM'].fillna(df['CRIM'].median(), inplace=True)\n",
    "df['ZN'].fillna(df['ZN'].median(), inplace=True)\n",
    "df['INDUS'].fillna(df['INDUS'].median(), inplace=True)\n",
    "df['CHAS'].fillna(df['CHAS'].median(), inplace=True)\n",
    "df['AGE'].fillna(df['AGE'].median(), inplace=True)\n",
    "df['LSTAT'].fillna(df['LSTAT'].median(), inplace=True)"
   ]
  },
  {
   "cell_type": "code",
   "execution_count": 51,
   "metadata": {},
   "outputs": [],
   "source": [
    "from sklearn.preprocessing import StandardScaler\n",
    "stand= StandardScaler()\n",
    "for column in ['CRIM', 'ZN', 'INDUS', 'CHAS', 'NOX', 'RM', 'AGE', 'DIS', 'RAD', 'TAX','PTRATIO', 'B', 'LSTAT']:\n",
    "    df[column] = stand.fit_transform(df[column].values.reshape(-1,1))"
   ]
  },
  {
   "cell_type": "code",
   "execution_count": 52,
   "metadata": {},
   "outputs": [
    {
     "name": "stdout",
     "output_type": "stream",
     "text": [
      "Model: \"sequential_8\"\n",
      "_________________________________________________________________\n",
      " Layer (type)                Output Shape              Param #   \n",
      "=================================================================\n",
      " dense_16 (Dense)            (None, 64)                896       \n",
      "                                                                 \n",
      " dropout_8 (Dropout)         (None, 64)                0         \n",
      "                                                                 \n",
      " dense_17 (Dense)            (None, 1)                 65        \n",
      "                                                                 \n",
      "=================================================================\n",
      "Total params: 961 (3.75 KB)\n",
      "Trainable params: 961 (3.75 KB)\n",
      "Non-trainable params: 0 (0.00 Byte)\n",
      "_________________________________________________________________\n"
     ]
    }
   ],
   "source": [
    "\n",
    "X = df.drop('MEDV', axis = 1)\n",
    "y = df['MEDV']\n",
    "X_train, X_test, y_train, y_test = train_test_split(X, y, test_size=0.3, random_state=42)\n",
    "\n",
    "scaler = StandardScaler()\n",
    "X_train = scaler.fit_transform(X_train)\n",
    "X_test = scaler.transform(X_test)\n",
    "\n",
    "# Build model\n",
    "model = Sequential()\n",
    "model.add(Dense(64, activation='relu', input_shape=(X_train.shape[1],)))\n",
    "model.add(Dropout(0.5)) # Add dropout layer\n",
    "model.add(Dense(1)) \n",
    "\n",
    "model.compile(optimizer='adam', loss='mse')\n",
    "model.summary()"
   ]
  },
  {
   "cell_type": "code",
   "execution_count": 53,
   "metadata": {},
   "outputs": [
    {
     "name": "stdout",
     "output_type": "stream",
     "text": [
      "Test set MSE: 15.089\n"
     ]
    }
   ],
   "source": [
    "\n",
    "# Train with dropout\n",
    "model.fit(X_train, y_train, \n",
    "          epochs=100, \n",
    "          batch_size=16,\n",
    "          validation_data=(X_test, y_test),\n",
    "          verbose=0)\n",
    "\n",
    "# Evaluate model \n",
    "loss = model.evaluate(X_test, y_test, verbose=0)\n",
    "print('Test set MSE: {:.3f}'.format(loss))"
   ]
  },
  {
   "cell_type": "code",
   "execution_count": 54,
   "metadata": {},
   "outputs": [],
   "source": [
    "# Create callback for early stopping  \n",
    "early_stopping = EarlyStopping(monitor='val_loss', \n",
    "                               patience=5,\n",
    "                               restore_best_weights=True)"
   ]
  },
  {
   "cell_type": "markdown",
   "metadata": {},
   "source": [
    "## Early-Stopping"
   ]
  },
  {
   "cell_type": "code",
   "execution_count": 55,
   "metadata": {},
   "outputs": [
    {
     "name": "stdout",
     "output_type": "stream",
     "text": [
      "Test set MSE: 13.625\n"
     ]
    }
   ],
   "source": [
    "# Train model\n",
    "model.fit(X_train, y_train,  \n",
    "          epochs=100,\n",
    "          batch_size=16,\n",
    "          validation_data=(X_test, y_test),\n",
    "          callbacks=[early_stopping],\n",
    "          verbose=0)\n",
    "\n",
    "# Evaluate on test set\n",
    "loss = model.evaluate(X_test, y_test, verbose=0)\n",
    "print('Test set MSE: {:.3f}'.format(loss))"
   ]
  }
 ],
 "metadata": {
  "kernelspec": {
   "display_name": "base",
   "language": "python",
   "name": "python3"
  },
  "language_info": {
   "codemirror_mode": {
    "name": "ipython",
    "version": 3
   },
   "file_extension": ".py",
   "mimetype": "text/x-python",
   "name": "python",
   "nbconvert_exporter": "python",
   "pygments_lexer": "ipython3",
   "version": "3.11.4"
  }
 },
 "nbformat": 4,
 "nbformat_minor": 2
}
